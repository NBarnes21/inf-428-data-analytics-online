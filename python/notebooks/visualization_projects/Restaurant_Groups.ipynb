{
 "cells": [
  {
   "cell_type": "markdown",
   "metadata": {},
   "source": [
    "## Plotting only the largest groups\n",
    "\n",
    "The goal of this notebook is to create a plot using only the largest groups of a dataset.  This technique is useful when there are many small groups that we may not be interested in and want to see trends among the largest groups.  "
   ]
  },
  {
   "cell_type": "code",
   "execution_count": 58,
   "metadata": {},
   "outputs": [],
   "source": [
    "# import pandas\n",
    "import pandas as pd\n",
    "import matplotlib.pyplot as plt\n",
    "from IPython.display import display"
   ]
  },
  {
   "cell_type": "code",
   "execution_count": 59,
   "metadata": {},
   "outputs": [],
   "source": [
    "# read the csv\n",
    "\n",
    "## NOTE THe data is too big to put in github so you can get it here.  Get the data before running the notebook and put\n",
    "## the data in the same directory as the notebook\n",
    "\n",
    "# Data is here https://drive.google.com/drive/folders/1B7QSEdfuJDnStNIlF3U3DbskdxUMDd1J\n",
    "foods=pd.read_csv('Food_Inspections.csv')"
   ]
  },
  {
   "cell_type": "code",
   "execution_count": 60,
   "metadata": {},
   "outputs": [
    {
     "name": "stdout",
     "output_type": "stream",
     "text": [
      "(201567, 17)\n"
     ]
    },
    {
     "data": {
      "text/html": [
       "<div>\n",
       "<style scoped>\n",
       "    .dataframe tbody tr th:only-of-type {\n",
       "        vertical-align: middle;\n",
       "    }\n",
       "\n",
       "    .dataframe tbody tr th {\n",
       "        vertical-align: top;\n",
       "    }\n",
       "\n",
       "    .dataframe thead th {\n",
       "        text-align: right;\n",
       "    }\n",
       "</style>\n",
       "<table border=\"1\" class=\"dataframe\">\n",
       "  <thead>\n",
       "    <tr style=\"text-align: right;\">\n",
       "      <th></th>\n",
       "      <th>Inspection ID</th>\n",
       "      <th>DBA Name</th>\n",
       "      <th>AKA Name</th>\n",
       "      <th>License #</th>\n",
       "      <th>Facility Type</th>\n",
       "      <th>Risk</th>\n",
       "      <th>Address</th>\n",
       "      <th>City</th>\n",
       "      <th>State</th>\n",
       "      <th>Zip</th>\n",
       "      <th>Inspection Date</th>\n",
       "      <th>Inspection Type</th>\n",
       "      <th>Results</th>\n",
       "      <th>Violations</th>\n",
       "      <th>Latitude</th>\n",
       "      <th>Longitude</th>\n",
       "      <th>Location</th>\n",
       "    </tr>\n",
       "  </thead>\n",
       "  <tbody>\n",
       "    <tr>\n",
       "      <th>0</th>\n",
       "      <td>2362603</td>\n",
       "      <td>MOY LEE CHINESE RESTAURANT</td>\n",
       "      <td>MOY LEE CHINESE RESTAURANT</td>\n",
       "      <td>2698794.0</td>\n",
       "      <td>Restaurant</td>\n",
       "      <td>Risk 1 (High)</td>\n",
       "      <td>5346 N MILWAUKEE AVE</td>\n",
       "      <td>CHICAGO</td>\n",
       "      <td>IL</td>\n",
       "      <td>60630.0</td>\n",
       "      <td>02/20/2020</td>\n",
       "      <td>Complaint</td>\n",
       "      <td>Fail</td>\n",
       "      <td>36. THERMOMETERS PROVIDED &amp; ACCURATE - Comment...</td>\n",
       "      <td>41.977764</td>\n",
       "      <td>-87.769830</td>\n",
       "      <td>(-87.76982985082259, 41.97776393135019)</td>\n",
       "    </tr>\n",
       "    <tr>\n",
       "      <th>1</th>\n",
       "      <td>2362591</td>\n",
       "      <td>HALSTED QUICK SHOP</td>\n",
       "      <td>HALSTED QUICK SHOP</td>\n",
       "      <td>2712576.0</td>\n",
       "      <td>Grocery Store</td>\n",
       "      <td>Risk 1 (High)</td>\n",
       "      <td>5601 S HALSTED ST</td>\n",
       "      <td>CHICAGO</td>\n",
       "      <td>IL</td>\n",
       "      <td>60621.0</td>\n",
       "      <td>02/20/2020</td>\n",
       "      <td>License</td>\n",
       "      <td>Fail</td>\n",
       "      <td>3. MANAGEMENT, FOOD EMPLOYEE AND CONDITIONAL E...</td>\n",
       "      <td>41.792483</td>\n",
       "      <td>-87.644966</td>\n",
       "      <td>(-87.6449659047179, 41.792482647024215)</td>\n",
       "    </tr>\n",
       "    <tr>\n",
       "      <th>2</th>\n",
       "      <td>2362582</td>\n",
       "      <td>MC GEE'S JUKEBOX LOUNGE INC</td>\n",
       "      <td>MC GEE'S JUKEBOX LOUNGE INC</td>\n",
       "      <td>593.0</td>\n",
       "      <td>TAVERN</td>\n",
       "      <td>Risk 3 (Low)</td>\n",
       "      <td>7000 S HALSTED ST</td>\n",
       "      <td>CHICAGO</td>\n",
       "      <td>IL</td>\n",
       "      <td>60621.0</td>\n",
       "      <td>02/20/2020</td>\n",
       "      <td>Complaint Re-Inspection</td>\n",
       "      <td>Pass</td>\n",
       "      <td>NaN</td>\n",
       "      <td>41.766922</td>\n",
       "      <td>-87.644602</td>\n",
       "      <td>(-87.64460244736672, 41.766922435101215)</td>\n",
       "    </tr>\n",
       "    <tr>\n",
       "      <th>3</th>\n",
       "      <td>2362539</td>\n",
       "      <td>SHABANI'S GTS FAST FOOD</td>\n",
       "      <td>GTS FAST FOOD</td>\n",
       "      <td>2713029.0</td>\n",
       "      <td>Restaurant</td>\n",
       "      <td>Risk 1 (High)</td>\n",
       "      <td>5016 N Pulaski RD</td>\n",
       "      <td>CHICAGO</td>\n",
       "      <td>IL</td>\n",
       "      <td>60630.0</td>\n",
       "      <td>02/19/2020</td>\n",
       "      <td>License</td>\n",
       "      <td>Not Ready</td>\n",
       "      <td>NaN</td>\n",
       "      <td>41.972406</td>\n",
       "      <td>-87.728292</td>\n",
       "      <td>(-87.72829150056414, 41.97240585532906)</td>\n",
       "    </tr>\n",
       "    <tr>\n",
       "      <th>4</th>\n",
       "      <td>2362507</td>\n",
       "      <td>MIDLANE ESPORTS</td>\n",
       "      <td>MIDLANE ESPORTS</td>\n",
       "      <td>2684099.0</td>\n",
       "      <td>Restaurant</td>\n",
       "      <td>Risk 2 (Medium)</td>\n",
       "      <td>2741 N MILWAUKEE AVE</td>\n",
       "      <td>CHICAGO</td>\n",
       "      <td>IL</td>\n",
       "      <td>60647.0</td>\n",
       "      <td>02/19/2020</td>\n",
       "      <td>License Re-Inspection</td>\n",
       "      <td>Pass</td>\n",
       "      <td>NaN</td>\n",
       "      <td>41.931042</td>\n",
       "      <td>-87.710406</td>\n",
       "      <td>(-87.71040591126865, 41.93104159573519)</td>\n",
       "    </tr>\n",
       "  </tbody>\n",
       "</table>\n",
       "</div>"
      ],
      "text/plain": [
       "   Inspection ID                     DBA Name                     AKA Name  \\\n",
       "0        2362603   MOY LEE CHINESE RESTAURANT   MOY LEE CHINESE RESTAURANT   \n",
       "1        2362591           HALSTED QUICK SHOP           HALSTED QUICK SHOP   \n",
       "2        2362582  MC GEE'S JUKEBOX LOUNGE INC  MC GEE'S JUKEBOX LOUNGE INC   \n",
       "3        2362539      SHABANI'S GTS FAST FOOD                GTS FAST FOOD   \n",
       "4        2362507              MIDLANE ESPORTS              MIDLANE ESPORTS   \n",
       "\n",
       "   License #  Facility Type             Risk                Address     City  \\\n",
       "0  2698794.0     Restaurant    Risk 1 (High)  5346 N MILWAUKEE AVE   CHICAGO   \n",
       "1  2712576.0  Grocery Store    Risk 1 (High)     5601 S HALSTED ST   CHICAGO   \n",
       "2      593.0         TAVERN     Risk 3 (Low)     7000 S HALSTED ST   CHICAGO   \n",
       "3  2713029.0     Restaurant    Risk 1 (High)     5016 N Pulaski RD   CHICAGO   \n",
       "4  2684099.0     Restaurant  Risk 2 (Medium)  2741 N MILWAUKEE AVE   CHICAGO   \n",
       "\n",
       "  State      Zip Inspection Date          Inspection Type    Results  \\\n",
       "0    IL  60630.0      02/20/2020                Complaint       Fail   \n",
       "1    IL  60621.0      02/20/2020                  License       Fail   \n",
       "2    IL  60621.0      02/20/2020  Complaint Re-Inspection       Pass   \n",
       "3    IL  60630.0      02/19/2020                  License  Not Ready   \n",
       "4    IL  60647.0      02/19/2020    License Re-Inspection       Pass   \n",
       "\n",
       "                                          Violations   Latitude  Longitude  \\\n",
       "0  36. THERMOMETERS PROVIDED & ACCURATE - Comment...  41.977764 -87.769830   \n",
       "1  3. MANAGEMENT, FOOD EMPLOYEE AND CONDITIONAL E...  41.792483 -87.644966   \n",
       "2                                                NaN  41.766922 -87.644602   \n",
       "3                                                NaN  41.972406 -87.728292   \n",
       "4                                                NaN  41.931042 -87.710406   \n",
       "\n",
       "                                   Location  \n",
       "0   (-87.76982985082259, 41.97776393135019)  \n",
       "1   (-87.6449659047179, 41.792482647024215)  \n",
       "2  (-87.64460244736672, 41.766922435101215)  \n",
       "3   (-87.72829150056414, 41.97240585532906)  \n",
       "4   (-87.71040591126865, 41.93104159573519)  "
      ]
     },
     "execution_count": 60,
     "metadata": {},
     "output_type": "execute_result"
    }
   ],
   "source": [
    "# take a look at the shape and first few entries of data\n",
    "print(foods.shape)\n",
    "foods.head()"
   ]
  },
  {
   "cell_type": "code",
   "execution_count": 61,
   "metadata": {},
   "outputs": [
    {
     "data": {
      "text/plain": [
       "(27845,)"
      ]
     },
     "execution_count": 61,
     "metadata": {},
     "output_type": "execute_result"
    }
   ],
   "source": [
    "# take a look at the number of unique entries.  This shows us how many different Restaurants there are\n",
    "foods['DBA Name'].unique().shape"
   ]
  },
  {
   "cell_type": "code",
   "execution_count": 62,
   "metadata": {},
   "outputs": [],
   "source": [
    "# form the groups\n",
    "groups = foods.groupby('DBA Name')\n",
    "#help(groups.Results.transform)"
   ]
  },
  {
   "cell_type": "markdown",
   "metadata": {},
   "source": [
    "The below block is used to get rid of all the entries that belong to small groups... "
   ]
  },
  {
   "cell_type": "code",
   "execution_count": 66,
   "metadata": {},
   "outputs": [
    {
     "name": "stdout",
     "output_type": "stream",
     "text": [
      "(201567,)\n",
      "(4774, 17)\n"
     ]
    }
   ],
   "source": [
    "# get a list of the group lengths\n",
    "group_len=groups.Results.transform(len);\n",
    "print(group_len.shape)\n",
    "# use the list to create a new list of restaurants only containing restaurants that have more than 500 entries\n",
    "newfoods=foods[group_len>500]\n",
    "print(newfoods.shape)\n",
    "#newfoods=foods[foods.groupby('DBA Name').Results.transform(len)>500]"
   ]
  },
  {
   "cell_type": "code",
   "execution_count": 67,
   "metadata": {},
   "outputs": [
    {
     "data": {
      "text/plain": [
       "(3,)"
      ]
     },
     "execution_count": 67,
     "metadata": {},
     "output_type": "execute_result"
    }
   ],
   "source": [
    "# check again how many unique restaurants there are... should be much smaller\n",
    "newfoods['DBA Name'].unique().shape"
   ]
  },
  {
   "cell_type": "markdown",
   "metadata": {},
   "source": [
    "Now that we have a small number of unique entries, we can regroup and it will produce only a small number of groups, making it more convenient to plot"
   ]
  },
  {
   "cell_type": "code",
   "execution_count": 68,
   "metadata": {},
   "outputs": [
    {
     "data": {
      "text/plain": [
       "DBA Name       Results             \n",
       "DUNKIN DONUTS  Business Not Located       3\n",
       "               Fail                     213\n",
       "               No Entry                   4\n",
       "               Not Ready                 15\n",
       "               Out of Business           59\n",
       "               Pass                     854\n",
       "               Pass w/ Conditions       284\n",
       "MCDONALD'S     Fail                     113\n",
       "               No Entry                   1\n",
       "               Not Ready                  3\n",
       "               Out of Business           27\n",
       "               Pass                     369\n",
       "               Pass w/ Conditions        69\n",
       "SUBWAY         Fail                     349\n",
       "               No Entry                   8\n",
       "               Not Ready                 11\n",
       "               Out of Business          174\n",
       "               Pass                    1632\n",
       "               Pass w/ Conditions       586\n",
       "Name: Inspection ID, dtype: int64"
      ]
     },
     "metadata": {},
     "output_type": "display_data"
    },
    {
     "data": {
      "text/plain": [
       "<matplotlib.axes._subplots.AxesSubplot at 0x7f1e6261aa90>"
      ]
     },
     "execution_count": 68,
     "metadata": {},
     "output_type": "execute_result"
    },
    {
     "data": {
      "image/png": "[encoded data removed]",
      "text/plain": [
       "<Figure size 720x576 with 1 Axes>"
      ]
     },
     "metadata": {
      "needs_background": "light"
     },
     "output_type": "display_data"
    }
   ],
   "source": [
    "# now that we only have small groups let's group by DBA Name and Result\n",
    "groups=newfoods.groupby(['DBA Name', 'Results'])\n",
    "# and aggregate by counting the number of entries\n",
    "aggregate=groups.count()['Inspection ID'];\n",
    "#%matplotlib inline\n",
    "# display the aggregated data\n",
    "display(aggregate)\n",
    "# and plot it with a bar plot\n",
    "plt.figure(figsize=(10,8))\n",
    "aggregate.plot.bar()"
   ]
  },
  {
   "cell_type": "code",
   "execution_count": null,
   "metadata": {},
   "outputs": [],
   "source": []
  }
 ],
 "metadata": {
  "kernelspec": {
   "display_name": "Python 3",
   "language": "python",
   "name": "python3"
  },
  "language_info": {
   "codemirror_mode": {
    "name": "ipython",
    "version": 3
   },
   "file_extension": ".py",
   "mimetype": "text/x-python",
   "name": "python",
   "nbconvert_exporter": "python",
   "pygments_lexer": "ipython3",
   "version": "3.7.3"
  }
 },
 "nbformat": 4,
 "nbformat_minor": 2
}
