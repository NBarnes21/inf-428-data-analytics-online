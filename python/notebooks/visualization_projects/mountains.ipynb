{
 "cells": [
  {
   "cell_type": "code",
   "execution_count": 1,
   "metadata": {},
   "outputs": [],
   "source": [
    "import pandas as pd"
   ]
  },
  {
   "cell_type": "code",
   "execution_count": 2,
   "metadata": {},
   "outputs": [],
   "source": [
    "mountains=pd.read_csv('adkmts_abe_shelton.csv')"
   ]
  },
  {
   "cell_type": "code",
   "execution_count": 3,
   "metadata": {},
   "outputs": [
    {
     "data": {
      "text/plain": [
       "(46, 6)"
      ]
     },
     "execution_count": 3,
     "metadata": {},
     "output_type": "execute_result"
    }
   ],
   "source": [
    "mountains.shape"
   ]
  },
  {
   "cell_type": "code",
   "execution_count": 4,
   "metadata": {},
   "outputs": [
    {
     "data": {
      "text/html": [
       "<div>\n",
       "<style scoped>\n",
       "    .dataframe tbody tr th:only-of-type {\n",
       "        vertical-align: middle;\n",
       "    }\n",
       "\n",
       "    .dataframe tbody tr th {\n",
       "        vertical-align: top;\n",
       "    }\n",
       "\n",
       "    .dataframe thead th {\n",
       "        text-align: right;\n",
       "    }\n",
       "</style>\n",
       "<table border=\"1\" class=\"dataframe\">\n",
       "  <thead>\n",
       "    <tr style=\"text-align: right;\">\n",
       "      <th></th>\n",
       "      <th>Name of Mountain (Highest - Lowest)</th>\n",
       "      <th>Elevation (feet)</th>\n",
       "      <th>Difficulty 1-7 (1 least difficult)</th>\n",
       "      <th>Ascent of Climb</th>\n",
       "      <th>Length of Round Trip</th>\n",
       "      <th>Typical Hike Time</th>\n",
       "    </tr>\n",
       "  </thead>\n",
       "  <tbody>\n",
       "    <tr>\n",
       "      <th>0</th>\n",
       "      <td>Mount Marcy</td>\n",
       "      <td>5344'</td>\n",
       "      <td>5</td>\n",
       "      <td>3166'</td>\n",
       "      <td>14.8 miles</td>\n",
       "      <td>10 hours</td>\n",
       "    </tr>\n",
       "    <tr>\n",
       "      <th>1</th>\n",
       "      <td>Algonquin Peak</td>\n",
       "      <td>5114'</td>\n",
       "      <td>5</td>\n",
       "      <td>2936'</td>\n",
       "      <td>9.6 miles</td>\n",
       "      <td>9 hours</td>\n",
       "    </tr>\n",
       "    <tr>\n",
       "      <th>2</th>\n",
       "      <td>Mount Haystack</td>\n",
       "      <td>4960'</td>\n",
       "      <td>7</td>\n",
       "      <td>3570'</td>\n",
       "      <td>17.8 miles</td>\n",
       "      <td>12 hours</td>\n",
       "    </tr>\n",
       "    <tr>\n",
       "      <th>3</th>\n",
       "      <td>Mount Skylight</td>\n",
       "      <td>4926'</td>\n",
       "      <td>7</td>\n",
       "      <td>4265'</td>\n",
       "      <td>17.9 miles</td>\n",
       "      <td>15 hours</td>\n",
       "    </tr>\n",
       "    <tr>\n",
       "      <th>4</th>\n",
       "      <td>Whiteface Mountain</td>\n",
       "      <td>4867'</td>\n",
       "      <td>4</td>\n",
       "      <td>2535'</td>\n",
       "      <td>10.4 miles</td>\n",
       "      <td>8.5 hours</td>\n",
       "    </tr>\n",
       "  </tbody>\n",
       "</table>\n",
       "</div>"
      ],
      "text/plain": [
       "  Name of Mountain (Highest - Lowest) Elevation (feet)  \\\n",
       "0                         Mount Marcy            5344'   \n",
       "1                      Algonquin Peak            5114'   \n",
       "2                      Mount Haystack            4960'   \n",
       "3                      Mount Skylight            4926'   \n",
       "4                  Whiteface Mountain            4867'   \n",
       "\n",
       "   Difficulty 1-7 (1 least difficult) Ascent of Climb Length of Round Trip  \\\n",
       "0                                   5           3166'           14.8 miles   \n",
       "1                                   5           2936'            9.6 miles   \n",
       "2                                   7           3570'           17.8 miles   \n",
       "3                                   7           4265'           17.9 miles   \n",
       "4                                   4           2535'           10.4 miles   \n",
       "\n",
       "  Typical Hike Time  \n",
       "0          10 hours  \n",
       "1           9 hours  \n",
       "2          12 hours  \n",
       "3          15 hours  \n",
       "4         8.5 hours  "
      ]
     },
     "execution_count": 4,
     "metadata": {},
     "output_type": "execute_result"
    }
   ],
   "source": [
    "mountains.head()"
   ]
  },
  {
   "cell_type": "code",
   "execution_count": 41,
   "metadata": {},
   "outputs": [
    {
     "data": {
      "text/html": [
       "<div>\n",
       "<style scoped>\n",
       "    .dataframe tbody tr th:only-of-type {\n",
       "        vertical-align: middle;\n",
       "    }\n",
       "\n",
       "    .dataframe tbody tr th {\n",
       "        vertical-align: top;\n",
       "    }\n",
       "\n",
       "    .dataframe thead th {\n",
       "        text-align: right;\n",
       "    }\n",
       "</style>\n",
       "<table border=\"1\" class=\"dataframe\">\n",
       "  <thead>\n",
       "    <tr style=\"text-align: right;\">\n",
       "      <th></th>\n",
       "      <th>name</th>\n",
       "      <th>difficulty</th>\n",
       "    </tr>\n",
       "  </thead>\n",
       "  <tbody>\n",
       "    <tr>\n",
       "      <th>0</th>\n",
       "      <td>Mount Marcy</td>\n",
       "      <td>5</td>\n",
       "    </tr>\n",
       "    <tr>\n",
       "      <th>1</th>\n",
       "      <td>Algonquin Peak</td>\n",
       "      <td>5</td>\n",
       "    </tr>\n",
       "    <tr>\n",
       "      <th>2</th>\n",
       "      <td>Mount Haystack</td>\n",
       "      <td>7</td>\n",
       "    </tr>\n",
       "    <tr>\n",
       "      <th>3</th>\n",
       "      <td>Mount Skylight</td>\n",
       "      <td>7</td>\n",
       "    </tr>\n",
       "    <tr>\n",
       "      <th>4</th>\n",
       "      <td>Whiteface Mountain</td>\n",
       "      <td>4</td>\n",
       "    </tr>\n",
       "  </tbody>\n",
       "</table>\n",
       "</div>"
      ],
      "text/plain": [
       "                 name  difficulty\n",
       "0         Mount Marcy           5\n",
       "1      Algonquin Peak           5\n",
       "2      Mount Haystack           7\n",
       "3      Mount Skylight           7\n",
       "4  Whiteface Mountain           4"
      ]
     },
     "execution_count": 41,
     "metadata": {},
     "output_type": "execute_result"
    }
   ],
   "source": [
    "simple=pd.DataFrame()\n",
    "simple['name']=mountains['Name of Mountain (Highest - Lowest)']\n",
    "simple['difficulty']=mountains['Difficulty 1-7 (1 least difficult)']\n",
    "simple.head()"
   ]
  },
  {
   "cell_type": "code",
   "execution_count": 42,
   "metadata": {},
   "outputs": [
    {
     "data": {
      "text/plain": [
       "'24'"
      ]
     },
     "execution_count": 42,
     "metadata": {},
     "output_type": "execute_result"
    }
   ],
   "source": [
    "'24 hours'.rstrip(' hours')"
   ]
  },
  {
   "cell_type": "code",
   "execution_count": 43,
   "metadata": {},
   "outputs": [],
   "source": [
    "simple['elevation']=mountains['Elevation (feet)'].apply(lambda x:int(x.rstrip('\\'')))"
   ]
  },
  {
   "cell_type": "code",
   "execution_count": 44,
   "metadata": {},
   "outputs": [
    {
     "data": {
      "text/plain": [
       "4405.282608695652"
      ]
     },
     "execution_count": 44,
     "metadata": {},
     "output_type": "execute_result"
    }
   ],
   "source": [
    "simple.elevation.mean()"
   ]
  },
  {
   "cell_type": "code",
   "execution_count": 45,
   "metadata": {},
   "outputs": [],
   "source": [
    "simple['ascent']=mountains['Ascent of Climb'].apply(lambda x:int(x.rstrip('\\'')))"
   ]
  },
  {
   "cell_type": "code",
   "execution_count": 46,
   "metadata": {},
   "outputs": [],
   "source": [
    "simple['length']=mountains['Length of Round Trip'].apply(lambda x:float(x.rstrip(' miles')))"
   ]
  },
  {
   "cell_type": "code",
   "execution_count": 47,
   "metadata": {},
   "outputs": [],
   "source": [
    "simple['time']=mountains['Typical Hike Time'].apply(lambda x:float(x.rstrip(' hours')))"
   ]
  },
  {
   "cell_type": "code",
   "execution_count": 48,
   "metadata": {},
   "outputs": [
    {
     "data": {
      "text/html": [
       "<div>\n",
       "<style scoped>\n",
       "    .dataframe tbody tr th:only-of-type {\n",
       "        vertical-align: middle;\n",
       "    }\n",
       "\n",
       "    .dataframe tbody tr th {\n",
       "        vertical-align: top;\n",
       "    }\n",
       "\n",
       "    .dataframe thead th {\n",
       "        text-align: right;\n",
       "    }\n",
       "</style>\n",
       "<table border=\"1\" class=\"dataframe\">\n",
       "  <thead>\n",
       "    <tr style=\"text-align: right;\">\n",
       "      <th></th>\n",
       "      <th>name</th>\n",
       "      <th>difficulty</th>\n",
       "      <th>elevation</th>\n",
       "      <th>ascent</th>\n",
       "      <th>length</th>\n",
       "      <th>time</th>\n",
       "    </tr>\n",
       "  </thead>\n",
       "  <tbody>\n",
       "    <tr>\n",
       "      <th>0</th>\n",
       "      <td>Mount Marcy</td>\n",
       "      <td>5</td>\n",
       "      <td>5344</td>\n",
       "      <td>3166</td>\n",
       "      <td>14.8</td>\n",
       "      <td>10.0</td>\n",
       "    </tr>\n",
       "    <tr>\n",
       "      <th>1</th>\n",
       "      <td>Algonquin Peak</td>\n",
       "      <td>5</td>\n",
       "      <td>5114</td>\n",
       "      <td>2936</td>\n",
       "      <td>9.6</td>\n",
       "      <td>9.0</td>\n",
       "    </tr>\n",
       "    <tr>\n",
       "      <th>2</th>\n",
       "      <td>Mount Haystack</td>\n",
       "      <td>7</td>\n",
       "      <td>4960</td>\n",
       "      <td>3570</td>\n",
       "      <td>17.8</td>\n",
       "      <td>12.0</td>\n",
       "    </tr>\n",
       "    <tr>\n",
       "      <th>3</th>\n",
       "      <td>Mount Skylight</td>\n",
       "      <td>7</td>\n",
       "      <td>4926</td>\n",
       "      <td>4265</td>\n",
       "      <td>17.9</td>\n",
       "      <td>15.0</td>\n",
       "    </tr>\n",
       "    <tr>\n",
       "      <th>4</th>\n",
       "      <td>Whiteface Mountain</td>\n",
       "      <td>4</td>\n",
       "      <td>4867</td>\n",
       "      <td>2535</td>\n",
       "      <td>10.4</td>\n",
       "      <td>8.5</td>\n",
       "    </tr>\n",
       "  </tbody>\n",
       "</table>\n",
       "</div>"
      ],
      "text/plain": [
       "                 name  difficulty  elevation  ascent  length  time\n",
       "0         Mount Marcy           5       5344    3166    14.8  10.0\n",
       "1      Algonquin Peak           5       5114    2936     9.6   9.0\n",
       "2      Mount Haystack           7       4960    3570    17.8  12.0\n",
       "3      Mount Skylight           7       4926    4265    17.9  15.0\n",
       "4  Whiteface Mountain           4       4867    2535    10.4   8.5"
      ]
     },
     "execution_count": 48,
     "metadata": {},
     "output_type": "execute_result"
    }
   ],
   "source": [
    "simple.head()"
   ]
  },
  {
   "cell_type": "code",
   "execution_count": 56,
   "metadata": {},
   "outputs": [],
   "source": [
    "mountains.to_csv('mountains.csv')"
   ]
  },
  {
   "cell_type": "code",
   "execution_count": 57,
   "metadata": {},
   "outputs": [
    {
     "data": {
      "text/plain": [
       "<matplotlib.axes._subplots.AxesSubplot at 0x7f707bb87c88>"
      ]
     },
     "execution_count": 57,
     "metadata": {},
     "output_type": "execute_result"
    },
    {
     "data": {
      "image/png": "[encoded data removed]",
      "text/plain": [
       "<Figure size 432x288 with 1 Axes>"
      ]
     },
     "metadata": {
      "needs_background": "light"
     },
     "output_type": "display_data"
    }
   ],
   "source": [
    "%matplotlib inline\n",
    "simple.plot.scatter('time','difficulty')"
   ]
  },
  {
   "cell_type": "code",
   "execution_count": null,
   "metadata": {},
   "outputs": [],
   "source": []
  }
 ],
 "metadata": {
  "kernelspec": {
   "display_name": "Python 3",
   "language": "python",
   "name": "python3"
  },
  "language_info": {
   "codemirror_mode": {
    "name": "ipython",
    "version": 3
   },
   "file_extension": ".py",
   "mimetype": "text/x-python",
   "name": "python",
   "nbconvert_exporter": "python",
   "pygments_lexer": "ipython3",
   "version": "3.7.3"
  }
 },
 "nbformat": 4,
 "nbformat_minor": 2
}
