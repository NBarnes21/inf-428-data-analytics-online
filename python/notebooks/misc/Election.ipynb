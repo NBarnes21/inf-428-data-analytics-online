{
 "cells": [
  {
   "cell_type": "code",
   "execution_count": 8,
   "metadata": {},
   "outputs": [],
   "source": [
    "def AStupidlySimpleModel(switchRD, switchDR, newR, newD):\n",
    "    D=64*((100+switchRD-switchDR+newD)/100)\n",
    "    R=65*((100-switchRD+switchDR+newR)/100)\n",
    "    print(\"D\",D)\n",
    "    print(\"R\",R)"
   ]
  },
  {
   "cell_type": "code",
   "execution_count": 9,
   "metadata": {},
   "outputs": [
    {
     "name": "stdout",
     "output_type": "stream",
     "text": [
      "D 64.64\n",
      "R 64.35\n"
     ]
    }
   ],
   "source": [
    "switchRD=1\n",
    "switchDR=0\n",
    "newR=0\n",
    "newD=0\n",
    "AStupidlySimpleModel(switchRD, switchDR, newR, newD)\n"
   ]
  },
  {
   "cell_type": "code",
   "execution_count": 10,
   "metadata": {},
   "outputs": [
    {
     "name": "stdout",
     "output_type": "stream",
     "text": [
      "D 64.64\n",
      "R 65.0\n"
     ]
    }
   ],
   "source": [
    "switchRD=0\n",
    "switchDR=0\n",
    "newR=0\n",
    "newD=1\n",
    "AStupidlySimpleModel(switchRD, switchDR, newR, newD)"
   ]
  },
  {
   "cell_type": "code",
   "execution_count": null,
   "metadata": {},
   "outputs": [],
   "source": []
  }
 ],
 "metadata": {
  "kernelspec": {
   "display_name": "Python 3",
   "language": "python",
   "name": "python3"
  },
  "language_info": {
   "codemirror_mode": {
    "name": "ipython",
    "version": 3
   },
   "file_extension": ".py",
   "mimetype": "text/x-python",
   "name": "python",
   "nbconvert_exporter": "python",
   "pygments_lexer": "ipython3",
   "version": "3.7.3"
  }
 },
 "nbformat": 4,
 "nbformat_minor": 2
}
