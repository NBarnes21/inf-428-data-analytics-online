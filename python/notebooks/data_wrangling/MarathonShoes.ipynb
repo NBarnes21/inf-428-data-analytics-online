{
 "cells": [
  {
   "cell_type": "code",
   "execution_count": 9,
   "metadata": {},
   "outputs": [],
   "source": [
    "# import numpy and pandas\n",
    "import numpy as np\n",
    "import pandas as pd"
   ]
  },
  {
   "cell_type": "code",
   "execution_count": 10,
   "metadata": {},
   "outputs": [],
   "source": [
    "# define number of runners to take from each dataset\n",
    "numRunnersToAnalyze = 100;"
   ]
  },
  {
   "cell_type": "code",
   "execution_count": 11,
   "metadata": {},
   "outputs": [
    {
     "data": {
      "text/html": [
       "<div>\n",
       "<style scoped>\n",
       "    .dataframe tbody tr th:only-of-type {\n",
       "        vertical-align: middle;\n",
       "    }\n",
       "\n",
       "    .dataframe tbody tr th {\n",
       "        vertical-align: top;\n",
       "    }\n",
       "\n",
       "    .dataframe thead th {\n",
       "        text-align: right;\n",
       "    }\n",
       "</style>\n",
       "<table border=\"1\" class=\"dataframe\">\n",
       "  <thead>\n",
       "    <tr style=\"text-align: right;\">\n",
       "      <th></th>\n",
       "      <th>time</th>\n",
       "      <th>name</th>\n",
       "      <th>country</th>\n",
       "      <th>place</th>\n",
       "      <th>marathon</th>\n",
       "      <th>day</th>\n",
       "      <th>month</th>\n",
       "      <th>year</th>\n",
       "      <th>gender</th>\n",
       "    </tr>\n",
       "  </thead>\n",
       "  <tbody>\n",
       "    <tr>\n",
       "      <th>0</th>\n",
       "      <td>2:19:25</td>\n",
       "      <td>Gladys CHERONO</td>\n",
       "      <td>KEN</td>\n",
       "      <td>1</td>\n",
       "      <td>Berlin</td>\n",
       "      <td>27</td>\n",
       "      <td>SEP</td>\n",
       "      <td>2015</td>\n",
       "      <td>F</td>\n",
       "    </tr>\n",
       "    <tr>\n",
       "      <th>1</th>\n",
       "      <td>2:19:52</td>\n",
       "      <td>Mare DIBABA</td>\n",
       "      <td>ETH</td>\n",
       "      <td>1</td>\n",
       "      <td>Xiamen</td>\n",
       "      <td>3</td>\n",
       "      <td>JAN</td>\n",
       "      <td>2015</td>\n",
       "      <td>F</td>\n",
       "    </tr>\n",
       "    <tr>\n",
       "      <th>2</th>\n",
       "      <td>2:20:02</td>\n",
       "      <td>Aselefech MERGIA</td>\n",
       "      <td>ETH</td>\n",
       "      <td>1</td>\n",
       "      <td>Dubai</td>\n",
       "      <td>23</td>\n",
       "      <td>JAN</td>\n",
       "      <td>2015</td>\n",
       "      <td>F</td>\n",
       "    </tr>\n",
       "    <tr>\n",
       "      <th>3</th>\n",
       "      <td>2:20:03</td>\n",
       "      <td>Gladys CHERONO</td>\n",
       "      <td>KEN</td>\n",
       "      <td>2</td>\n",
       "      <td>Dubai</td>\n",
       "      <td>23</td>\n",
       "      <td>JAN</td>\n",
       "      <td>2015</td>\n",
       "      <td>F</td>\n",
       "    </tr>\n",
       "    <tr>\n",
       "      <th>4</th>\n",
       "      <td>2:20:21</td>\n",
       "      <td>Lucy Wangui KABUU</td>\n",
       "      <td>KEN</td>\n",
       "      <td>3</td>\n",
       "      <td>Dubai</td>\n",
       "      <td>23</td>\n",
       "      <td>JAN</td>\n",
       "      <td>2015</td>\n",
       "      <td>F</td>\n",
       "    </tr>\n",
       "  </tbody>\n",
       "</table>\n",
       "</div>"
      ],
      "text/plain": [
       "      time               name country place marathon day month  year gender\n",
       "0  2:19:25     Gladys CHERONO     KEN     1   Berlin  27   SEP  2015      F\n",
       "1  2:19:52        Mare DIBABA     ETH     1   Xiamen   3   JAN  2015      F\n",
       "2  2:20:02   Aselefech MERGIA     ETH     1    Dubai  23   JAN  2015      F\n",
       "3  2:20:03     Gladys CHERONO     KEN     2    Dubai  23   JAN  2015      F\n",
       "4  2:20:21  Lucy Wangui KABUU     KEN     3    Dubai  23   JAN  2015      F"
      ]
     },
     "execution_count": 11,
     "metadata": {},
     "output_type": "execute_result"
    }
   ],
   "source": [
    "# read several datasets\n",
    "data1=pd.read_fwf('Women2015.txt', names=[\"time\",\"name\",\"country\",\"place\",\"marathon\",\"day\",\"month\"]).head(numRunnersToAnalyze)\n",
    "data1['year']=2015\n",
    "data1['gender']='F'\n",
    "data2=pd.read_fwf('Women2019.txt', names=[\"time\",\"name\",\"country\",\"place\",\"marathon\",\"day\",\"month\"]).head(numRunnersToAnalyze)\n",
    "data2['year']=2019\n",
    "data2['gender']='F'\n",
    "data3=pd.read_fwf('Men2015.txt', names=[\"time\",\"name\",\"country\",\"place\",\"marathon\",\"day\",\"month\"]).head(numRunnersToAnalyze)\n",
    "data3['year']=2015\n",
    "data3['gender']='M'\n",
    "data4=pd.read_fwf('Men2019.txt', names=[\"time\",\"name\",\"country\",\"place\",\"marathon\",\"day\",\"month\"]).head(numRunnersToAnalyze)\n",
    "data4['year']=2019\n",
    "data4['gender']='M'\n",
    "\n",
    "data5=pd.read_fwf('Women2013.txt', names=[\"time\",\"name\",\"country\",\"place\",\"marathon\",\"day\",\"month\"]).head(numRunnersToAnalyze)\n",
    "data5['year']=2013\n",
    "data5['gender']='F'\n",
    "data6=pd.read_fwf('Women2018.txt', names=[\"time\",\"name\",\"country\",\"place\",\"marathon\",\"day\",\"month\"]).head(numRunnersToAnalyze)\n",
    "data6['year']=2018\n",
    "data6['gender']='F'\n",
    "data7=pd.read_fwf('Men2013.txt', names=[\"time\",\"name\",\"country\",\"place\",\"marathon\",\"day\",\"month\"]).head(numRunnersToAnalyze)\n",
    "data7['year']=2013\n",
    "data7['gender']='M'\n",
    "data8=pd.read_fwf('Men2018.txt', names=[\"time\",\"name\",\"country\",\"place\",\"marathon\",\"day\",\"month\"]).head(numRunnersToAnalyze)\n",
    "data8['year']=2018\n",
    "data8['gender']='M'\n",
    "\n",
    "# concatenate the data into one data frame\n",
    "final=pd.concat([data1, data2, data3, data4,data5,data6,data7,data8])\n",
    "final.head()"
   ]
  },
  {
   "cell_type": "code",
   "execution_count": 13,
   "metadata": {},
   "outputs": [],
   "source": [
    "def timeToSeconds(time):\n",
    "    temp=time.split(':')\n",
    "    return 3600*int(temp[0])+60*int(temp[1])+int(temp[2])"
   ]
  },
  {
   "cell_type": "code",
   "execution_count": 19,
   "metadata": {},
   "outputs": [],
   "source": [
    "final['seconds']=final['time'].apply(lambda x: timeToSeconds(x))"
   ]
  },
  {
   "cell_type": "code",
   "execution_count": 20,
   "metadata": {},
   "outputs": [
    {
     "data": {
      "text/html": [
       "<div>\n",
       "<style scoped>\n",
       "    .dataframe tbody tr th:only-of-type {\n",
       "        vertical-align: middle;\n",
       "    }\n",
       "\n",
       "    .dataframe tbody tr th {\n",
       "        vertical-align: top;\n",
       "    }\n",
       "\n",
       "    .dataframe thead th {\n",
       "        text-align: right;\n",
       "    }\n",
       "</style>\n",
       "<table border=\"1\" class=\"dataframe\">\n",
       "  <thead>\n",
       "    <tr style=\"text-align: right;\">\n",
       "      <th></th>\n",
       "      <th>time</th>\n",
       "      <th>name</th>\n",
       "      <th>country</th>\n",
       "      <th>place</th>\n",
       "      <th>marathon</th>\n",
       "      <th>day</th>\n",
       "      <th>month</th>\n",
       "      <th>year</th>\n",
       "      <th>gender</th>\n",
       "      <th>seconds</th>\n",
       "    </tr>\n",
       "  </thead>\n",
       "  <tbody>\n",
       "    <tr>\n",
       "      <th>0</th>\n",
       "      <td>2:19:57</td>\n",
       "      <td>Rita Jeptoo</td>\n",
       "      <td>KEN</td>\n",
       "      <td>1</td>\n",
       "      <td>Chicago</td>\n",
       "      <td>13</td>\n",
       "      <td>OCT</td>\n",
       "      <td>2013</td>\n",
       "      <td>F</td>\n",
       "      <td>8397</td>\n",
       "    </tr>\n",
       "    <tr>\n",
       "      <th>1</th>\n",
       "      <td>2:20:15</td>\n",
       "      <td>Priscah Jeptoo</td>\n",
       "      <td>KEN</td>\n",
       "      <td>1</td>\n",
       "      <td>London</td>\n",
       "      <td>21</td>\n",
       "      <td>APR</td>\n",
       "      <td>2013</td>\n",
       "      <td>F</td>\n",
       "      <td>8415</td>\n",
       "    </tr>\n",
       "    <tr>\n",
       "      <th>2</th>\n",
       "      <td>2:20:48</td>\n",
       "      <td>Jemima Jelegat</td>\n",
       "      <td>KEN</td>\n",
       "      <td>2</td>\n",
       "      <td>Chicago</td>\n",
       "      <td>13</td>\n",
       "      <td>OCT</td>\n",
       "      <td>2013</td>\n",
       "      <td>F</td>\n",
       "      <td>8448</td>\n",
       "    </tr>\n",
       "    <tr>\n",
       "      <th>3</th>\n",
       "      <td>2:21:05</td>\n",
       "      <td>Feyse Tadesse</td>\n",
       "      <td>ETH</td>\n",
       "      <td>1</td>\n",
       "      <td>Paris</td>\n",
       "      <td>7</td>\n",
       "      <td>APR</td>\n",
       "      <td>2013</td>\n",
       "      <td>F</td>\n",
       "      <td>8465</td>\n",
       "    </tr>\n",
       "    <tr>\n",
       "      <th>4</th>\n",
       "      <td>2:21:13</td>\n",
       "      <td>Florence Kiplagat</td>\n",
       "      <td>KEN</td>\n",
       "      <td>1</td>\n",
       "      <td>Berlin</td>\n",
       "      <td>29</td>\n",
       "      <td>SEP</td>\n",
       "      <td>2013</td>\n",
       "      <td>F</td>\n",
       "      <td>8473</td>\n",
       "    </tr>\n",
       "  </tbody>\n",
       "</table>\n",
       "</div>"
      ],
      "text/plain": [
       "      time               name country place marathon day month  year gender  \\\n",
       "0  2:19:57        Rita Jeptoo     KEN     1  Chicago  13   OCT  2013      F   \n",
       "1  2:20:15     Priscah Jeptoo     KEN     1   London  21   APR  2013      F   \n",
       "2  2:20:48     Jemima Jelegat     KEN     2  Chicago  13   OCT  2013      F   \n",
       "3  2:21:05      Feyse Tadesse     ETH     1    Paris   7   APR  2013      F   \n",
       "4  2:21:13  Florence Kiplagat     KEN     1   Berlin  29   SEP  2013      F   \n",
       "\n",
       "   seconds  \n",
       "0     8397  \n",
       "1     8415  \n",
       "2     8448  \n",
       "3     8465  \n",
       "4     8473  "
      ]
     },
     "execution_count": 20,
     "metadata": {},
     "output_type": "execute_result"
    }
   ],
   "source": [
    "final.head()"
   ]
  },
  {
   "cell_type": "markdown",
   "metadata": {},
   "source": [
    "Output the file with time in seconds for use in KNIME"
   ]
  },
  {
   "cell_type": "code",
   "execution_count": 21,
   "metadata": {},
   "outputs": [],
   "source": [
    "final.to_csv('outputforKNIME.csv')"
   ]
  },
  {
   "cell_type": "code",
   "execution_count": 22,
   "metadata": {},
   "outputs": [],
   "source": [
    "groups=final.groupby(['year','gender']).describe()['seconds']"
   ]
  },
  {
   "cell_type": "code",
   "execution_count": 24,
   "metadata": {},
   "outputs": [
    {
     "data": {
      "text/plain": [
       "<matplotlib.axes._subplots.AxesSubplot at 0x7f92968bb470>"
      ]
     },
     "execution_count": 24,
     "metadata": {},
     "output_type": "execute_result"
    },
    {
     "data": {
      "image/png": "[encoded data removed]",
      "text/plain": [
       "<Figure size 432x288 with 1 Axes>"
      ]
     },
     "metadata": {
      "needs_background": "light"
     },
     "output_type": "display_data"
    }
   ],
   "source": [
    "#matplotlibinline\n",
    "groups.plot.bar()"
   ]
  },
  {
   "cell_type": "code",
   "execution_count": null,
   "metadata": {},
   "outputs": [],
   "source": []
  }
 ],
 "metadata": {
  "kernelspec": {
   "display_name": "Python 3",
   "language": "python",
   "name": "python3"
  },
  "language_info": {
   "codemirror_mode": {
    "name": "ipython",
    "version": 3
   },
   "file_extension": ".py",
   "mimetype": "text/x-python",
   "name": "python",
   "nbconvert_exporter": "python",
   "pygments_lexer": "ipython3",
   "version": "3.7.3"
  }
 },
 "nbformat": 4,
 "nbformat_minor": 2
}
