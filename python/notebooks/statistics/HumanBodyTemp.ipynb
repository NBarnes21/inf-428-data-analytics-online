{
 "cells": [
  {
   "cell_type": "markdown",
   "metadata": {},
   "source": [
    "## Calculating human body temperature stats\n",
    "\n",
    "Import pandas and load the human body temperature data to test with.\n",
    "\n",
    "This example is based on an [R-tutorial from here](http://ww2.coastal.edu/kingw/statistics/R-tutorials/singlesample-t.html)\n",
    "\n",
    "For a few years we've noticed that the average temperature of this dataset is lower than the historicly accepted average of 98.6... I always thought the dataset must be biased in some way... but it turns out the average human body temperature may be lower than always thought [see this article](https://www.smithsonianmag.com/smart-news/human-body-temperature-getting-cooler-study-finds-180974006/)"
   ]
  },
  {
   "cell_type": "markdown",
   "metadata": {},
   "source": [
    "Import the data and take a look at the first few entries using the head() function"
   ]
  },
  {
   "cell_type": "code",
   "execution_count": 2,
   "metadata": {},
   "outputs": [
    {
     "name": "stdout",
     "output_type": "stream",
     "text": [
      "   temp\n",
      "0  96.3\n",
      "1  96.7\n",
      "2  96.9\n",
      "3  97.0\n",
      "4  97.1\n"
     ]
    }
   ],
   "source": [
    "import pandas as pd\n",
    "temps=pd.read_csv(\"temps.csv\")\n",
    "\n",
    "print (temps.head())"
   ]
  },
  {
   "cell_type": "markdown",
   "metadata": {},
   "source": [
    "We can draw a histogram directly from the dataframe"
   ]
  },
  {
   "cell_type": "code",
   "execution_count": 9,
   "metadata": {},
   "outputs": [
    {
     "data": {
      "text/plain": [
       "array([[<matplotlib.axes._subplots.AxesSubplot object at 0x7fa46fa40e10>]],\n",
       "      dtype=object)"
      ]
     },
     "execution_count": 9,
     "metadata": {},
     "output_type": "execute_result"
    },
    {
     "data": {
      "image/png": "[encoded data removed]",
      "text/plain": [
       "<Figure size 432x288 with 1 Axes>"
      ]
     },
     "metadata": {
      "needs_background": "light"
     },
     "output_type": "display_data"
    }
   ],
   "source": [
    "#matplotlibinline\n",
    "temps.hist(bins=50)"
   ]
  },
  {
   "cell_type": "code",
   "execution_count": 2,
   "metadata": {},
   "outputs": [
    {
     "name": "stdout",
     "output_type": "stream",
     "text": [
      "temp    98.249231\n",
      "dtype: float64\n"
     ]
    }
   ],
   "source": [
    "print(temps.mean())"
   ]
  },
  {
   "cell_type": "markdown",
   "metadata": {},
   "source": [
    "We use scipy to perform a single variable T-test to test the hypothesis that human body temperature is different than 98.6.  What does the low p value mean??  Is the human body temperature (at least according to this data set) different from 98.6?"
   ]
  },
  {
   "cell_type": "code",
   "execution_count": 3,
   "metadata": {},
   "outputs": [
    {
     "data": {
      "text/plain": [
       "Ttest_1sampResult(statistic=array([-5.45482329]), pvalue=array([2.41063204e-07]))"
      ]
     },
     "execution_count": 3,
     "metadata": {},
     "output_type": "execute_result"
    }
   ],
   "source": [
    "import scipy.stats\n",
    "scipy.stats.ttest_1samp(temps, 98.6)"
   ]
  },
  {
   "cell_type": "markdown",
   "metadata": {},
   "source": [
    "Test the hypothesis that human body temperature is different than 98.24.  Is the human body temperature different than 98.24?"
   ]
  },
  {
   "cell_type": "code",
   "execution_count": 39,
   "metadata": {},
   "outputs": [
    {
     "data": {
      "text/plain": [
       "Ttest_1sampResult(statistic=array([0.14354798]), pvalue=array([0.88608142]))"
      ]
     },
     "execution_count": 39,
     "metadata": {},
     "output_type": "execute_result"
    }
   ],
   "source": [
    "scipy.stats.ttest_1samp(temps, 98.24)"
   ]
  }
 ],
 "metadata": {
  "anaconda-cloud": {},
  "kernelspec": {
   "display_name": "Python 3",
   "language": "python",
   "name": "python3"
  },
  "language_info": {
   "codemirror_mode": {
    "name": "ipython",
    "version": 3
   },
   "file_extension": ".py",
   "mimetype": "text/x-python",
   "name": "python",
   "nbconvert_exporter": "python",
   "pygments_lexer": "ipython3",
   "version": "3.7.3"
  }
 },
 "nbformat": 4,
 "nbformat_minor": 1
}
